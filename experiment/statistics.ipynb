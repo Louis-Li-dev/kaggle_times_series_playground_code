{
 "cells": [
  {
   "cell_type": "code",
   "execution_count": 18,
   "metadata": {},
   "outputs": [],
   "source": [
    "import warnings\n",
    "warnings.simplefilter(action='ignore')\n",
    "import os\n",
    "import sys\n",
    "parent_dir = os.path.join(os.getcwd(), '..')\n",
    "if parent_dir not in sys.path: sys.path.append(parent_dir)\n",
    "import pandas as pd\n",
    "from sklearn.metrics import root_mean_squared_log_error\n",
    "from modules.utility import get_date_details, one_hot, upload\n",
    "from config import args"
   ]
  },
  {
   "cell_type": "code",
   "execution_count": 19,
   "metadata": {},
   "outputs": [],
   "source": [
    "OUTPUT_FILE_NAME = \"sample_submission_average_guessing1.csv\""
   ]
  },
  {
   "cell_type": "code",
   "execution_count": 20,
   "metadata": {},
   "outputs": [],
   "source": [
    "df = pd.read_csv(args.train_csv)\n",
    "test_df = pd.read_csv(args.test_csv)"
   ]
  },
  {
   "cell_type": "code",
   "execution_count": 21,
   "metadata": {},
   "outputs": [],
   "source": [
    "df['date'] = pd.to_datetime(df['date'])\n",
    "\n",
    "new_date = get_date_details(df)\n",
    "new_df, dummies = one_hot(new_date)\n",
    "combined = pd.concat([new_df, dummies], axis=1)"
   ]
  },
  {
   "cell_type": "code",
   "execution_count": 22,
   "metadata": {},
   "outputs": [],
   "source": [
    "test_df['date'] = pd.to_datetime(test_df['date'])\n",
    "test_new_date = get_date_details(test_df)\n",
    "test_new_df, test_dummies = one_hot(test_new_date)\n",
    "test_combined = pd.concat([test_new_df, test_dummies], axis=1)"
   ]
  },
  {
   "cell_type": "code",
   "execution_count": 23,
   "metadata": {},
   "outputs": [],
   "source": [
    "combined['d'] = combined['date'].dt.day"
   ]
  },
  {
   "cell_type": "code",
   "execution_count": 24,
   "metadata": {},
   "outputs": [],
   "source": [
    "tmp = combined.groupby([\"store_nbr\", *dummies.columns.tolist(), \"d\"]).agg({'sales': \"mean\"})\n"
   ]
  },
  {
   "cell_type": "code",
   "execution_count": 25,
   "metadata": {},
   "outputs": [],
   "source": [
    "def average_guessor(train_df, test_x):\n",
    "    train_df = train_df.copy()\n",
    "    test_x = test_x.copy()\n",
    "    test_x['d'] = test_x['date'].dt.day\n",
    "    \n",
    "    target_mask = train_df['date'] - pd.Timedelta(days=30)\n",
    "    train_df = train_df[train_df['date'] > target_mask]\n",
    "    cols = [\"store_nbr\", *dummies.columns.tolist(), \"d\"]\n",
    "    tmp = train_df.groupby(cols).agg({'sales': \"mean\"})\n",
    "    tmp = tmp.reset_index()\n",
    "\n",
    "    pred = test_x.merge(tmp, on=cols, how=\"left\")\n",
    "    return pred"
   ]
  },
  {
   "cell_type": "code",
   "execution_count": 26,
   "metadata": {},
   "outputs": [],
   "source": [
    "\n",
    "from sklearn.model_selection import train_test_split\n",
    "x, y = combined.drop('sales', axis=1), combined['sales']\n",
    "train_x, test_x, train_y, test_y = train_test_split(x, y, test_size=.2)\n",
    "\n"
   ]
  },
  {
   "cell_type": "code",
   "execution_count": 27,
   "metadata": {},
   "outputs": [],
   "source": [
    "pred = average_guessor(pd.concat([train_x, train_y], axis=1), test_x)"
   ]
  },
  {
   "cell_type": "code",
   "execution_count": 28,
   "metadata": {},
   "outputs": [
    {
     "data": {
      "text/plain": [
       "1.53494580192939"
      ]
     },
     "execution_count": 28,
     "metadata": {},
     "output_type": "execute_result"
    }
   ],
   "source": [
    "\n",
    "root_mean_squared_log_error(round(pred['sales'].clip(0)), test_y)"
   ]
  },
  {
   "cell_type": "code",
   "execution_count": 29,
   "metadata": {},
   "outputs": [],
   "source": [
    "pred = average_guessor(pd.concat([train_x, train_y], axis=1), test_combined)"
   ]
  },
  {
   "cell_type": "code",
   "execution_count": 30,
   "metadata": {},
   "outputs": [],
   "source": [
    "upload(\n",
    "    pred=round(pred['sales'].clip(0)), \n",
    "    test_df=test_df, \n",
    "    filename=os.path.join(args.output, OUTPUT_FILE_NAME)\n",
    ")"
   ]
  }
 ],
 "metadata": {
  "kernelspec": {
   "display_name": "base",
   "language": "python",
   "name": "python3"
  },
  "language_info": {
   "codemirror_mode": {
    "name": "ipython",
    "version": 3
   },
   "file_extension": ".py",
   "mimetype": "text/x-python",
   "name": "python",
   "nbconvert_exporter": "python",
   "pygments_lexer": "ipython3",
   "version": "3.11.5"
  }
 },
 "nbformat": 4,
 "nbformat_minor": 2
}
